{
 "cells": [
  {
   "cell_type": "code",
   "execution_count": 27,
   "id": "43c61910",
   "metadata": {},
   "outputs": [],
   "source": [
    "import pandas as pd\n",
    "import matplotlib.pyplot as plt\n",
    "import numpy as np\n",
    "\n",
    "flights_data = pd.read_csv('flights.csv')\n",
    "#print(flights_data.head(10))\n",
    "weather_data_pd = pd.read_csv('weather.csv')\n",
    "weather_data_np = weather_data_pd.to_numpy()\n",
    "\n",
    "#Pandas Data Filtering/Sorting Question Answering\n",
    "#use flights_data"
   ]
  },
  {
   "cell_type": "code",
   "execution_count": 26,
   "id": "d481a633",
   "metadata": {},
   "outputs": [
    {
     "name": "stdout",
     "output_type": "stream",
     "text": [
      "Number of flights from JFK to SLC: 2113\n"
     ]
    }
   ],
   "source": [
    "#Question 1 How many flights were there from JFK to SLC? Int\n",
    "JFK_to_SLC = flights_data[(flights_data['origin'] == 'JFK') & (flights_data['dest'] == 'SLC')]\n",
    "print(\"Number of flights from JFK to SLC: \" + str(len(JFK_to_SLC)))"
   ]
  },
  {
   "cell_type": "code",
   "execution_count": 37,
   "id": "7c95baef",
   "metadata": {},
   "outputs": [
    {
     "name": "stdout",
     "output_type": "stream",
     "text": [
      "Number of airlines that fly to SLC: 2\n",
      "The two unique airlines are: DL,B6\n"
     ]
    }
   ],
   "source": [
    "#Question 2 How many airlines fly to SLC? Should be int\n",
    "Airlines_to_SLC = flights_data[(flights_data['dest'] == 'SLC')]\n",
    "unique_airlines = Airlines_to_SLC['carrier'].unique()\n",
    "print(\"Number of airlines that fly to SLC: \" + str(len(unique_airlines)))\n",
    "unique_airlines_commas = \",\".join(unique_airlines)\n",
    "print(\"The two unique airlines are: \" + unique_airlines_commas)\n",
    "#It is strange that only 2 unique airlines fly to SLC.\n",
    "#I just double checked on Excel and confirmed that it's only 2 unique airlines."
   ]
  },
  {
   "cell_type": "code",
   "execution_count": 47,
   "id": "bcf69e5b",
   "metadata": {},
   "outputs": [
    {
     "name": "stdout",
     "output_type": "stream",
     "text": [
      "The average arrival delay for flights to RDU is: 10.052380952380952\n"
     ]
    }
   ],
   "source": [
    "#Question 3 What is the average arrival delay for flights to RDU? float\n",
    "Arrival_RDU = flights_data[(flights_data['dest'] == 'RDU')]\n",
    "average_arr_delay_RDU = Arrival_RDU['arr_delay'].mean()\n",
    "print(\"The average arrival delay for flights to RDU is: \" + str(average_arr_delay_RDU))"
   ]
  },
  {
   "cell_type": "code",
   "execution_count": 53,
   "id": "2f161c06",
   "metadata": {},
   "outputs": [
    {
     "name": "stdout",
     "output_type": "stream",
     "text": [
      "The proportion of flights to SEA from LGA and JFK: 0.5332653581442773\n"
     ]
    }
   ],
   "source": [
    "#Question 4 What proportion of flights to SEA come from the two NYC airports (LGA and JFK)?  float\n",
    "Flights_to_SEA = flights_data[(flights_data['dest'] == 'SEA')]\n",
    "LGA_to_SEA = flights_data[(flights_data['dest'] == 'SEA') & (flights_data['origin'] == 'LGA')]\n",
    "#There are no flights from LGA to SEA in this dataset. Working with JFK to SEA only.\n",
    "JFK_to_SEA = flights_data[(flights_data['dest'] == 'SEA') & (flights_data['origin'] == 'JFK')]\n",
    "proportion_JFK_LGA_to_all_SEA = len(JFK_to_SEA)/len(Flights_to_SEA)\n",
    "print(\"The proportion of flights to SEA from LGA and JFK: \" + str(proportion_JFK_LGA_to_all_SEA))"
   ]
  },
  {
   "cell_type": "code",
   "execution_count": 57,
   "id": "26a91bbb",
   "metadata": {},
   "outputs": [
    {
     "name": "stdout",
     "output_type": "stream",
     "text": [
      "        Unnamed: 0  year  month  day  dep_time  dep_delay  arr_time  \\\n",
      "0                1  2013      1    1     517.0        2.0     830.0   \n",
      "1                2  2013      1    1     533.0        4.0     850.0   \n",
      "2                3  2013      1    1     542.0        2.0     923.0   \n",
      "3                4  2013      1    1     544.0       -1.0    1004.0   \n",
      "4                5  2013      1    1     554.0       -6.0     812.0   \n",
      "...            ...   ...    ...  ...       ...        ...       ...   \n",
      "336771      336772  2013      9   30       NaN        NaN       NaN   \n",
      "336772      336773  2013      9   30       NaN        NaN       NaN   \n",
      "336773      336774  2013      9   30       NaN        NaN       NaN   \n",
      "336774      336775  2013      9   30       NaN        NaN       NaN   \n",
      "336775      336776  2013      9   30       NaN        NaN       NaN   \n",
      "\n",
      "        arr_delay carrier tailnum  flight origin dest  air_time  distance  \\\n",
      "0            11.0      UA  N14228    1545    EWR  IAH     227.0      1400   \n",
      "1            20.0      UA  N24211    1714    LGA  IAH     227.0      1416   \n",
      "2            33.0      AA  N619AA    1141    JFK  MIA     160.0      1089   \n",
      "3           -18.0      B6  N804JB     725    JFK  BQN     183.0      1576   \n",
      "4           -25.0      DL  N668DN     461    LGA  ATL     116.0       762   \n",
      "...           ...     ...     ...     ...    ...  ...       ...       ...   \n",
      "336771        NaN      9E     NaN    3393    JFK  DCA       NaN       213   \n",
      "336772        NaN      9E     NaN    3525    LGA  SYR       NaN       198   \n",
      "336773        NaN      MQ  N535MQ    3461    LGA  BNA       NaN       764   \n",
      "336774        NaN      MQ  N511MQ    3572    LGA  CLE       NaN       419   \n",
      "336775        NaN      MQ  N839MQ    3531    LGA  RDU       NaN       431   \n",
      "\n",
      "        hour  minute   datetime  \n",
      "0        5.0    17.0 2013-01-01  \n",
      "1        5.0    33.0 2013-01-01  \n",
      "2        5.0    42.0 2013-01-01  \n",
      "3        5.0    44.0 2013-01-01  \n",
      "4        5.0    54.0 2013-01-01  \n",
      "...      ...     ...        ...  \n",
      "336771   NaN     NaN 2013-09-30  \n",
      "336772   NaN     NaN 2013-09-30  \n",
      "336773   NaN     NaN 2013-09-30  \n",
      "336774   NaN     NaN 2013-09-30  \n",
      "336775   NaN     NaN 2013-09-30  \n",
      "\n",
      "[336776 rows x 18 columns]\n"
     ]
    }
   ],
   "source": [
    "#Question 5 Which date has the largest average depature delay? Pd slice with date and float\n",
    "#please make date a column. Preferred format is 2013/1/1 (y/m/d)\n",
    "#I'll try starting with creating a date column, then worry about panda slicing\n",
    "#print(pd.to_datetime(flights_data[['year', 'month', 'day']]))\n",
    "flights_data['datetime'] = pd.to_datetime(flights_data[['year', 'month', 'day']])\n",
    "print(flights_data)"
   ]
  },
  {
   "cell_type": "code",
   "execution_count": null,
   "id": "2915097f",
   "metadata": {},
   "outputs": [],
   "source": [
    "#Question 6 Which date has the largest average arrival delay? pd slice with date and float\n",
    "q_6 \n",
    "#Question 7 Which flight departing LGA or JFK in 2013 flew the fastest? pd slice with tailnumber and speed\n",
    "#speed = distance/airtime\n",
    "q_7\n",
    "#Question 8 Replace all nans in the weather pd dataframe with 0s. Pd with no nans\n",
    "q_8 \n",
    "#%% Numpy Data Filtering/Sorting Question Answering\n",
    "#Use weather_data_np\n",
    "#Question 9 How many observations were made in Feburary? Int\n",
    "q_9 \n",
    "#Question 10 What was the mean for humidity in February? Float\n",
    "q_10\n",
    "#Question 11 What was the std for humidity in February? Float\n",
    "q_11"
   ]
  }
 ],
 "metadata": {
  "kernelspec": {
   "display_name": "Python 3.10.6 64-bit",
   "language": "python",
   "name": "python3"
  },
  "language_info": {
   "codemirror_mode": {
    "name": "ipython",
    "version": 3
   },
   "file_extension": ".py",
   "mimetype": "text/x-python",
   "name": "python",
   "nbconvert_exporter": "python",
   "pygments_lexer": "ipython3",
   "version": "3.10.6"
  },
  "vscode": {
   "interpreter": {
    "hash": "aee8b7b246df8f9039afb4144a1f6fd8d2ca17a180786b69acc140d282b71a49"
   }
  }
 },
 "nbformat": 4,
 "nbformat_minor": 5
}
